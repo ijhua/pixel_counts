{
 "cells": [
  {
   "cell_type": "code",
   "execution_count": 1,
   "metadata": {},
   "outputs": [],
   "source": [
    "import glob\n",
    "import pandas as pd\n",
    "import numpy as np\n",
    "from PIL import Image"
   ]
  },
  {
   "cell_type": "code",
   "execution_count": 2,
   "metadata": {},
   "outputs": [],
   "source": [
    "#path to folder with the tif files\n",
    "input_path = \"path/to/image/files/\"\n",
    "#name of the summary output file\n",
    "output_name = \"summary_file_name\""
   ]
  },
  {
   "cell_type": "code",
   "execution_count": 3,
   "metadata": {},
   "outputs": [],
   "source": [
    "files = glob.glob(input_path+\"*.tif\")"
   ]
  },
  {
   "cell_type": "code",
   "execution_count": 4,
   "metadata": {},
   "outputs": [],
   "source": [
    "#empty dictionary for results\n",
    "results = {\"filename\":[],\"positive\":[]}"
   ]
  },
  {
   "cell_type": "code",
   "execution_count": 5,
   "metadata": {
    "scrolled": false
   },
   "outputs": [],
   "source": [
    "for file in files:\n",
    "    filename = file.split(\"/\")[-1].split(\".\")[0]\n",
    "    image = Image.open(file)\n",
    "    #convert image into dataframe with pixel values\n",
    "    df = pd.DataFrame(np.array(image))\n",
    "    df2 = pd.DataFrame()\n",
    "    df2[\"pixels\"] = df.stack().reset_index(drop=True)\n",
    "    #skip files without correct thresholding\n",
    "    if 255 not in df2.groupby(\"pixels\").size().index:\n",
    "        print(f\"File not tresholded correctly: {filename}\")\n",
    "        continue\n",
    "    else:\n",
    "        #count the number of positive pixels (white pixels)\n",
    "        positive_count = df2.groupby(\"pixels\").size()[255]\n",
    "        results[\"filename\"].append(filename)\n",
    "        results[\"positive\"].append(positive_count)"
   ]
  },
  {
   "cell_type": "code",
   "execution_count": 6,
   "metadata": {},
   "outputs": [],
   "source": [
    "#convert results dictionary to dataframe and save as csv\n",
    "summary = pd.DataFrame(results)\n",
    "summary.to_csv(output_name+\".csv\")"
   ]
  },
  {
   "cell_type": "code",
   "execution_count": null,
   "metadata": {},
   "outputs": [],
   "source": []
  }
 ],
 "metadata": {
  "kernelspec": {
   "display_name": "Python 3",
   "language": "python",
   "name": "python3"
  },
  "language_info": {
   "codemirror_mode": {
    "name": "ipython",
    "version": 3
   },
   "file_extension": ".py",
   "mimetype": "text/x-python",
   "name": "python",
   "nbconvert_exporter": "python",
   "pygments_lexer": "ipython3",
   "version": "3.6.13"
  }
 },
 "nbformat": 4,
 "nbformat_minor": 4
}
